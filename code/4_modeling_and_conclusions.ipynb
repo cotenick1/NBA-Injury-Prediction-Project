{
 "cells": [
  {
   "cell_type": "markdown",
   "metadata": {
    "toc": true
   },
   "source": [
    "<h1>Table of Contents<span class=\"tocSkip\"></span></h1>\n",
    "<div class=\"toc\"><ul class=\"toc-item\"><li><span><a href=\"#1.-Import-Packages\" data-toc-modified-id=\"1.-Import-Packages-1\">1. Import Packages</a></span></li><li><span><a href=\"#2.-Read-in-Data\" data-toc-modified-id=\"2.-Read-in-Data-2\">2. Read in Data</a></span></li><li><span><a href=\"#3.-Model-Set-Up\" data-toc-modified-id=\"3.-Model-Set-Up-3\">3. Model Set Up</a></span><ul class=\"toc-item\"><li><span><a href=\"#Choosing-Target\" data-toc-modified-id=\"Choosing-Target-3.1\">Choosing Target</a></span></li><li><span><a href=\"#Viewing-Baseline-Accuracy-Score\" data-toc-modified-id=\"Viewing-Baseline-Accuracy-Score-3.2\">Viewing Baseline Accuracy Score</a></span></li><li><span><a href=\"#Target-Metric\" data-toc-modified-id=\"Target-Metric-3.3\">Target Metric</a></span></li><li><span><a href=\"#Setting-Potential-Model-Features\" data-toc-modified-id=\"Setting-Potential-Model-Features-3.4\">Setting Potential Model Features</a></span></li><li><span><a href=\"#Considering-Potential-Models\" data-toc-modified-id=\"Considering-Potential-Models-3.5\">Considering Potential Models</a></span></li><li><span><a href=\"#Setting-Variables-and-Train-/-Test-Split\" data-toc-modified-id=\"Setting-Variables-and-Train-/-Test-Split-3.6\">Setting Variables and Train / Test Split</a></span></li><li><span><a href=\"#Scaling-Features\" data-toc-modified-id=\"Scaling-Features-3.7\">Scaling Features</a></span></li></ul></li><li><span><a href=\"#4.-Modeling\" data-toc-modified-id=\"4.-Modeling-4\">4. Modeling</a></span><ul class=\"toc-item\"><li><span><a href=\"#Logistic-Regression\" data-toc-modified-id=\"Logistic-Regression-4.1\">Logistic Regression</a></span></li><li><span><a href=\"#Decision-Tree\" data-toc-modified-id=\"Decision-Tree-4.2\">Decision Tree</a></span></li><li><span><a href=\"#Bagging-Classifier\" data-toc-modified-id=\"Bagging-Classifier-4.3\">Bagging Classifier</a></span></li><li><span><a href=\"#Random-Forest\" data-toc-modified-id=\"Random-Forest-4.4\">Random Forest</a></span></li><li><span><a href=\"#Extra-Trees\" data-toc-modified-id=\"Extra-Trees-4.5\">Extra Trees</a></span></li><li><span><a href=\"#Gradient-Boosting-Classifier\" data-toc-modified-id=\"Gradient-Boosting-Classifier-4.6\">Gradient Boosting Classifier</a></span></li><li><span><a href=\"#Ada-Boosting-Classifer\" data-toc-modified-id=\"Ada-Boosting-Classifer-4.7\">Ada Boosting Classifer</a></span></li></ul></li><li><span><a href=\"#5.-Model-Evaluations\" data-toc-modified-id=\"5.-Model-Evaluations-5\">5. Model Evaluations</a></span><ul class=\"toc-item\"><li><span><a href=\"#Accuracy\" data-toc-modified-id=\"Accuracy-5.1\">Accuracy</a></span></li><li><span><a href=\"#Area-Under-the-ROC-Curve\" data-toc-modified-id=\"Area-Under-the-ROC-Curve-5.2\">Area Under the ROC Curve</a></span></li><li><span><a href=\"#Specificity\" data-toc-modified-id=\"Specificity-5.3\">Specificity</a></span></li><li><span><a href=\"#Sensitivity\" data-toc-modified-id=\"Sensitivity-5.4\">Sensitivity</a></span></li></ul></li><li><span><a href=\"#6.-Final-Model-Selection-and-Analysis\" data-toc-modified-id=\"6.-Final-Model-Selection-and-Analysis-6\">6. Final Model Selection and Analysis</a></span><ul class=\"toc-item\"><li><span><a href=\"#Bagged-Classifier\" data-toc-modified-id=\"Bagged-Classifier-6.1\">Bagged Classifier</a></span></li><li><span><a href=\"#Feature-Importance\" data-toc-modified-id=\"Feature-Importance-6.2\">Feature Importance</a></span></li><li><span><a href=\"#Conclusions-and-Recommendations\" data-toc-modified-id=\"Conclusions-and-Recommendations-6.3\">Conclusions and Recommendations</a></span><ul class=\"toc-item\"><li><span><a href=\"#Question-1\" data-toc-modified-id=\"Question-1-6.3.1\">Question 1</a></span></li><li><span><a href=\"#Question-2\" data-toc-modified-id=\"Question-2-6.3.2\">Question 2</a></span></li><li><span><a href=\"#Question-3\" data-toc-modified-id=\"Question-3-6.3.3\">Question 3</a></span></li></ul></li><li><span><a href=\"#Potential-Next-Steps\" data-toc-modified-id=\"Potential-Next-Steps-6.4\">Potential Next Steps</a></span></li></ul></li></ul></div>"
   ]
  },
  {
   "cell_type": "markdown",
   "metadata": {},
   "source": [
    "# 1. Import Packages"
   ]
  },
  {
   "cell_type": "code",
   "execution_count": 1,
   "metadata": {},
   "outputs": [],
   "source": [
    "import pandas as pd\n",
    "import numpy as np\n",
    "import seaborn as sns\n",
    "import matplotlib.pyplot as plt\n",
    "import warnings\n",
    "from sklearn.ensemble import GradientBoostingClassifier, AdaBoostClassifier, VotingClassifier, BaggingClassifier, RandomForestClassifier, ExtraTreesClassifier\n",
    "from sklearn.tree import DecisionTreeClassifier, DecisionTreeRegressor\n",
    "from sklearn.model_selection import GridSearchCV, train_test_split, cross_val_score\n",
    "from sklearn.linear_model import LogisticRegression, LogisticRegressionCV\n",
    "from sklearn.neighbors import KNeighborsClassifier\n",
    "from sklearn.preprocessing import StandardScaler\n",
    "from sklearn.svm import SVC\n",
    "from sklearn.metrics import confusion_matrix, roc_auc_score\n",
    "from tqdm import tqdm\n",
    "warnings.filterwarnings(\"ignore\")\n",
    "%matplotlib inline"
   ]
  },
  {
   "cell_type": "code",
   "execution_count": 2,
   "metadata": {},
   "outputs": [],
   "source": [
    "pd.set_option('display.max_columns', 100)\n",
    "pd.set_option('display.max_rows', 100)"
   ]
  },
  {
   "cell_type": "markdown",
   "metadata": {},
   "source": [
    "# 2. Read in Data"
   ]
  },
  {
   "cell_type": "code",
   "execution_count": 3,
   "metadata": {},
   "outputs": [],
   "source": [
    "data = pd.read_csv('../data/modeling_data.csv')\n",
    "data.drop(columns = ['Unnamed: 0'], inplace = True)"
   ]
  },
  {
   "cell_type": "code",
   "execution_count": 4,
   "metadata": {},
   "outputs": [
    {
     "data": {
      "text/plain": [
       "(64043, 78)"
      ]
     },
     "execution_count": 4,
     "metadata": {},
     "output_type": "execute_result"
    }
   ],
   "source": [
    "data.shape"
   ]
  },
  {
   "cell_type": "markdown",
   "metadata": {},
   "source": [
    "# 3. Model Set Up"
   ]
  },
  {
   "cell_type": "markdown",
   "metadata": {},
   "source": [
    "## Choosing Target"
   ]
  },
  {
   "cell_type": "markdown",
   "metadata": {},
   "source": [
    "If you'll recall in the previous notebook, we created a number of different target classes that reflected longer time frames.  Essentially, the question we were asking was: after playing in this game, did this player suffer an injury in a. the game, b. the next week, c. the next two weeks, d. the next three weeks, or e. the next month. We did this to solve the imbalanced class issue.  We will check below to see the amount of the positive class in each scenario."
   ]
  },
  {
   "cell_type": "code",
   "execution_count": 5,
   "metadata": {},
   "outputs": [
    {
     "data": {
      "text/plain": [
       "0    0.981903\n",
       "1    0.018097\n",
       "Name: injury_suff, dtype: float64"
      ]
     },
     "execution_count": 5,
     "metadata": {},
     "output_type": "execute_result"
    }
   ],
   "source": [
    "# injury suffered in game\n",
    "data['injury_suff'].value_counts(normalize = True)"
   ]
  },
  {
   "cell_type": "code",
   "execution_count": 6,
   "metadata": {},
   "outputs": [
    {
     "data": {
      "text/plain": [
       "0    0.916291\n",
       "1    0.083709\n",
       "Name: 1week_inj, dtype: float64"
      ]
     },
     "execution_count": 6,
     "metadata": {},
     "output_type": "execute_result"
    }
   ],
   "source": [
    "# injury suffered in next week\n",
    "data['1week_inj'].value_counts(normalize = True)"
   ]
  },
  {
   "cell_type": "code",
   "execution_count": 7,
   "metadata": {},
   "outputs": [
    {
     "data": {
      "text/plain": [
       "0    0.86659\n",
       "1    0.13341\n",
       "Name: 2week_inj, dtype: float64"
      ]
     },
     "execution_count": 7,
     "metadata": {},
     "output_type": "execute_result"
    }
   ],
   "source": [
    "# injury suffered in next two weeks\n",
    "data['2week_inj'].value_counts(normalize = True)"
   ]
  },
  {
   "cell_type": "code",
   "execution_count": 8,
   "metadata": {},
   "outputs": [
    {
     "data": {
      "text/plain": [
       "0    0.823166\n",
       "1    0.176834\n",
       "Name: 3week_inj, dtype: float64"
      ]
     },
     "execution_count": 8,
     "metadata": {},
     "output_type": "execute_result"
    }
   ],
   "source": [
    "# injury suffered in next three weeks\n",
    "data['3week_inj'].value_counts(normalize = True)"
   ]
  },
  {
   "cell_type": "code",
   "execution_count": 9,
   "metadata": {},
   "outputs": [
    {
     "data": {
      "text/plain": [
       "0    0.771372\n",
       "1    0.228628\n",
       "Name: 1month_inj, dtype: float64"
      ]
     },
     "execution_count": 9,
     "metadata": {},
     "output_type": "execute_result"
    }
   ],
   "source": [
    "# injury suffered in next month\n",
    "data['1month_inj'].value_counts(normalize = True)"
   ]
  },
  {
   "cell_type": "markdown",
   "metadata": {},
   "source": [
    "We wanted a class balance in the 80/20 range, so we will proceed with the one month injury time frame."
   ]
  },
  {
   "cell_type": "markdown",
   "metadata": {},
   "source": [
    "## Viewing Baseline Accuracy Score"
   ]
  },
  {
   "cell_type": "markdown",
   "metadata": {},
   "source": [
    "As seen above, our baseline accuracy score is 77.1%."
   ]
  },
  {
   "cell_type": "markdown",
   "metadata": {},
   "source": [
    "## Target Metric"
   ]
  },
  {
   "cell_type": "markdown",
   "metadata": {},
   "source": [
    "We note that with this model, there are a couple of different metrics we might want to look at.  We may want to look at the overall accuracy.  In fact, when we test our model metrics, we will be looking at both accuracy and area under the ROC curve to compare the models.  However, for this project, for our final  we want to be looking at sensitivity for our target score.  NBA teams tend to be risk averse and with injuries, we want to be sure we are maximizing our prevention.  There are situations where specificity matters (e.g. you hold a player out of a game and your team ends up missing the playoffs by one game) but we feel that we are focused on long term team success and in this case, prevention is key."
   ]
  },
  {
   "cell_type": "markdown",
   "metadata": {},
   "source": [
    "## Setting Potential Model Features"
   ]
  },
  {
   "cell_type": "code",
   "execution_count": 10,
   "metadata": {},
   "outputs": [],
   "source": [
    "targets = ['injury_suff', '1week_inj', '2week_inj', '3week_inj', '1month_inj']\n",
    "objects = ['name', 'date', 'year', 'opponent', 'result', 'day', 'month', 'fg_made_attempts', '3p_made_attempts',\n",
    "           'ft_made_attempts', 'season']\n",
    "potential_features = list(data.columns.drop(targets + objects))"
   ]
  },
  {
   "cell_type": "markdown",
   "metadata": {},
   "source": [
    "We note that with our models, we will largely be using regularization techniques and grid searching to limit the impact of nonessential features and reduce overfitting."
   ]
  },
  {
   "cell_type": "markdown",
   "metadata": {},
   "source": [
    "## Considering Potential Models"
   ]
  },
  {
   "cell_type": "markdown",
   "metadata": {},
   "source": [
    "At this point, we note that our potential models will be classification models.  These include:\n",
    "\n",
    "- Logistic Regression\n",
    "- KNN\n",
    "- Decision Trees\n",
    "- Bagging Classifiers\n",
    "- Random Forests\n",
    "- Extra Trees\n",
    "- Boosting Classifiers\n",
    "- Support Vector Classifiers"
   ]
  },
  {
   "cell_type": "markdown",
   "metadata": {},
   "source": [
    "## Setting Variables and Train / Test Split"
   ]
  },
  {
   "cell_type": "code",
   "execution_count": 11,
   "metadata": {},
   "outputs": [],
   "source": [
    "X = data[potential_features]\n",
    "y = data['1month_inj']"
   ]
  },
  {
   "cell_type": "code",
   "execution_count": 12,
   "metadata": {},
   "outputs": [],
   "source": [
    "# train/test split\n",
    "X_train, X_test, y_train, y_test = train_test_split(X, y, stratify = y, random_state = 100)"
   ]
  },
  {
   "cell_type": "code",
   "execution_count": 13,
   "metadata": {},
   "outputs": [
    {
     "data": {
      "text/plain": [
       "(48032, 62)"
      ]
     },
     "execution_count": 13,
     "metadata": {},
     "output_type": "execute_result"
    }
   ],
   "source": [
    "X_train.shape"
   ]
  },
  {
   "cell_type": "code",
   "execution_count": 14,
   "metadata": {},
   "outputs": [
    {
     "data": {
      "text/plain": [
       "(16011, 62)"
      ]
     },
     "execution_count": 14,
     "metadata": {},
     "output_type": "execute_result"
    }
   ],
   "source": [
    "X_test.shape"
   ]
  },
  {
   "cell_type": "code",
   "execution_count": 15,
   "metadata": {},
   "outputs": [
    {
     "data": {
      "text/plain": [
       "0    0.771382\n",
       "1    0.228618\n",
       "Name: 1month_inj, dtype: float64"
      ]
     },
     "execution_count": 15,
     "metadata": {},
     "output_type": "execute_result"
    }
   ],
   "source": [
    "y_train.value_counts(normalize = True)"
   ]
  },
  {
   "cell_type": "code",
   "execution_count": 16,
   "metadata": {},
   "outputs": [
    {
     "data": {
      "text/plain": [
       "0    0.771345\n",
       "1    0.228655\n",
       "Name: 1month_inj, dtype: float64"
      ]
     },
     "execution_count": 16,
     "metadata": {},
     "output_type": "execute_result"
    }
   ],
   "source": [
    "y_test.value_counts(normalize = True)"
   ]
  },
  {
   "cell_type": "markdown",
   "metadata": {},
   "source": [
    "## Scaling Features"
   ]
  },
  {
   "cell_type": "markdown",
   "metadata": {},
   "source": [
    "For some of our models, we may want to scale our features using Standard Scaler, which is accomplished below."
   ]
  },
  {
   "cell_type": "code",
   "execution_count": 17,
   "metadata": {},
   "outputs": [],
   "source": [
    "sc = StandardScaler()\n",
    "X_train_sc = sc.fit_transform(X_train)\n",
    "X_test_sc = sc.transform(X_test)"
   ]
  },
  {
   "cell_type": "markdown",
   "metadata": {},
   "source": [
    "# 4. Modeling"
   ]
  },
  {
   "cell_type": "markdown",
   "metadata": {},
   "source": [
    "## Logistic Regression"
   ]
  },
  {
   "cell_type": "code",
   "execution_count": 18,
   "metadata": {},
   "outputs": [
    {
     "data": {
      "text/plain": [
       "LogisticRegression(C=1.0, class_weight=None, dual=False, fit_intercept=True,\n",
       "                   intercept_scaling=1, l1_ratio=None, max_iter=100,\n",
       "                   multi_class='warn', n_jobs=None, penalty='l2',\n",
       "                   random_state=None, solver='warn', tol=0.0001, verbose=0,\n",
       "                   warm_start=False)"
      ]
     },
     "execution_count": 18,
     "metadata": {},
     "output_type": "execute_result"
    }
   ],
   "source": [
    "lr = LogisticRegression()\n",
    "lr.fit(X_train, y_train)"
   ]
  },
  {
   "cell_type": "code",
   "execution_count": 19,
   "metadata": {},
   "outputs": [
    {
     "data": {
      "text/plain": [
       "0.7704238840772818"
      ]
     },
     "execution_count": 19,
     "metadata": {},
     "output_type": "execute_result"
    }
   ],
   "source": [
    "lr.score(X_train, y_train)"
   ]
  },
  {
   "cell_type": "code",
   "execution_count": 20,
   "metadata": {},
   "outputs": [
    {
     "data": {
      "text/plain": [
       "0.7702204734245206"
      ]
     },
     "execution_count": 20,
     "metadata": {},
     "output_type": "execute_result"
    }
   ],
   "source": [
    "lr.score(X_test, y_test)"
   ]
  },
  {
   "cell_type": "markdown",
   "metadata": {},
   "source": [
    "Because our model is not overfit, we do not need to regularize for Logistic Regression.  However, we note that this will likely not be our best choice model as it actually underperforms our baseline accuracy score."
   ]
  },
  {
   "cell_type": "markdown",
   "metadata": {},
   "source": [
    "Note that we will do a more robust model evaluation (including Sensitivity and Area under the ROC) after completing our modeling."
   ]
  },
  {
   "cell_type": "markdown",
   "metadata": {},
   "source": [
    "## Decision Tree"
   ]
  },
  {
   "cell_type": "code",
   "execution_count": 21,
   "metadata": {},
   "outputs": [],
   "source": [
    "dt_params = {\n",
    "    'max_depth' : [50, 75, 100, 125, 150, None],\n",
    "    'min_samples_split' : [2, 3, 4],\n",
    "    'min_samples_leaf' : [2, 3, 4]\n",
    "}\n",
    "\n",
    "dt_gs = GridSearchCV(estimator = DecisionTreeClassifier(),\n",
    "                     param_grid = dt_params,\n",
    "                     cv = 5,\n",
    "                     verbose = 1,\n",
    "                     n_jobs = -1)"
   ]
  },
  {
   "cell_type": "code",
   "execution_count": 22,
   "metadata": {},
   "outputs": [
    {
     "name": "stdout",
     "output_type": "stream",
     "text": [
      "Fitting 5 folds for each of 54 candidates, totalling 270 fits\n"
     ]
    },
    {
     "name": "stderr",
     "output_type": "stream",
     "text": [
      "[Parallel(n_jobs=-1)]: Using backend LokyBackend with 12 concurrent workers.\n",
      "[Parallel(n_jobs=-1)]: Done  26 tasks      | elapsed:    8.8s\n",
      "[Parallel(n_jobs=-1)]: Done 176 tasks      | elapsed:   38.1s\n",
      "[Parallel(n_jobs=-1)]: Done 270 out of 270 | elapsed:   57.8s finished\n"
     ]
    },
    {
     "data": {
      "text/plain": [
       "GridSearchCV(cv=5, error_score='raise-deprecating',\n",
       "             estimator=DecisionTreeClassifier(class_weight=None,\n",
       "                                              criterion='gini', max_depth=None,\n",
       "                                              max_features=None,\n",
       "                                              max_leaf_nodes=None,\n",
       "                                              min_impurity_decrease=0.0,\n",
       "                                              min_impurity_split=None,\n",
       "                                              min_samples_leaf=1,\n",
       "                                              min_samples_split=2,\n",
       "                                              min_weight_fraction_leaf=0.0,\n",
       "                                              presort=False, random_state=None,\n",
       "                                              splitter='best'),\n",
       "             iid='warn', n_jobs=-1,\n",
       "             param_grid={'max_depth': [50, 75, 100, 125, 150, None],\n",
       "                         'min_samples_leaf': [2, 3, 4],\n",
       "                         'min_samples_split': [2, 3, 4]},\n",
       "             pre_dispatch='2*n_jobs', refit=True, return_train_score=False,\n",
       "             scoring=None, verbose=1)"
      ]
     },
     "execution_count": 22,
     "metadata": {},
     "output_type": "execute_result"
    }
   ],
   "source": [
    "dt_gs.fit(X_train, y_train)"
   ]
  },
  {
   "cell_type": "code",
   "execution_count": 23,
   "metadata": {},
   "outputs": [
    {
     "data": {
      "text/plain": [
       "{'max_depth': None, 'min_samples_leaf': 2, 'min_samples_split': 3}"
      ]
     },
     "execution_count": 23,
     "metadata": {},
     "output_type": "execute_result"
    }
   ],
   "source": [
    "dt_gs.best_params_"
   ]
  },
  {
   "cell_type": "code",
   "execution_count": 24,
   "metadata": {
    "scrolled": true
   },
   "outputs": [
    {
     "data": {
      "text/plain": [
       "0.9880912724850099"
      ]
     },
     "execution_count": 24,
     "metadata": {},
     "output_type": "execute_result"
    }
   ],
   "source": [
    "dt_gs.score(X_train, y_train)"
   ]
  },
  {
   "cell_type": "code",
   "execution_count": 25,
   "metadata": {},
   "outputs": [
    {
     "data": {
      "text/plain": [
       "0.9121229154955968"
      ]
     },
     "execution_count": 25,
     "metadata": {},
     "output_type": "execute_result"
    }
   ],
   "source": [
    "dt_gs.score(X_test, y_test)"
   ]
  },
  {
   "cell_type": "code",
   "execution_count": 26,
   "metadata": {},
   "outputs": [],
   "source": [
    "dt = dt_gs.best_estimator_"
   ]
  },
  {
   "cell_type": "markdown",
   "metadata": {},
   "source": [
    "## Bagging Classifier"
   ]
  },
  {
   "cell_type": "markdown",
   "metadata": {},
   "source": [
    "We note that we want to continue using all 63 features in our model as we are particularly concerned with model interpratability - we want to eventually advise teams on what things to look for when determining injury risk (aside from simply using our model)."
   ]
  },
  {
   "cell_type": "code",
   "execution_count": 27,
   "metadata": {},
   "outputs": [],
   "source": [
    "bag_params = {\n",
    "    'n_estimators' : [65, 75, 85],\n",
    "    'max_features' : [1, 20, 50, 62]  \n",
    "}\n",
    "\n",
    "bag_gs = GridSearchCV(estimator = BaggingClassifier(),\n",
    "                      param_grid = bag_params, \n",
    "                      cv = 5,\n",
    "                      n_jobs = -1)"
   ]
  },
  {
   "cell_type": "code",
   "execution_count": 28,
   "metadata": {},
   "outputs": [
    {
     "data": {
      "text/plain": [
       "GridSearchCV(cv=5, error_score='raise-deprecating',\n",
       "             estimator=BaggingClassifier(base_estimator=None, bootstrap=True,\n",
       "                                         bootstrap_features=False,\n",
       "                                         max_features=1.0, max_samples=1.0,\n",
       "                                         n_estimators=10, n_jobs=None,\n",
       "                                         oob_score=False, random_state=None,\n",
       "                                         verbose=0, warm_start=False),\n",
       "             iid='warn', n_jobs=-1,\n",
       "             param_grid={'max_features': [1, 20, 50, 62],\n",
       "                         'n_estimators': [65, 75, 85]},\n",
       "             pre_dispatch='2*n_jobs', refit=True, return_train_score=False,\n",
       "             scoring=None, verbose=0)"
      ]
     },
     "execution_count": 28,
     "metadata": {},
     "output_type": "execute_result"
    }
   ],
   "source": [
    "bag_gs.fit(X_train, y_train)"
   ]
  },
  {
   "cell_type": "code",
   "execution_count": 29,
   "metadata": {},
   "outputs": [
    {
     "data": {
      "text/plain": [
       "1.0"
      ]
     },
     "execution_count": 29,
     "metadata": {},
     "output_type": "execute_result"
    }
   ],
   "source": [
    "bag_gs.score(X_train, y_train)"
   ]
  },
  {
   "cell_type": "code",
   "execution_count": 30,
   "metadata": {},
   "outputs": [
    {
     "data": {
      "text/plain": [
       "0.9479108113172194"
      ]
     },
     "execution_count": 30,
     "metadata": {},
     "output_type": "execute_result"
    }
   ],
   "source": [
    "bag_gs.score(X_test, y_test)"
   ]
  },
  {
   "cell_type": "code",
   "execution_count": 31,
   "metadata": {},
   "outputs": [
    {
     "data": {
      "text/plain": [
       "{'max_features': 62, 'n_estimators': 75}"
      ]
     },
     "execution_count": 31,
     "metadata": {},
     "output_type": "execute_result"
    }
   ],
   "source": [
    "bag_gs.best_params_"
   ]
  },
  {
   "cell_type": "code",
   "execution_count": 32,
   "metadata": {},
   "outputs": [],
   "source": [
    "bag = bag_gs.best_estimator_"
   ]
  },
  {
   "cell_type": "markdown",
   "metadata": {},
   "source": [
    "Because bagging is an ensemble method, feature importance is not available on for the model as a whole.  However, we can access each tree within the bagging model's feature importance and average the scores to get our feature importance for each of our 63 features.  We will want to access these later should we determine that bagging is our best model."
   ]
  },
  {
   "cell_type": "code",
   "execution_count": 33,
   "metadata": {},
   "outputs": [],
   "source": [
    "bag_feature_importances = np.mean([\n",
    "    tree.feature_importances_ for tree in bag.estimators_\n",
    "], axis=0)"
   ]
  },
  {
   "cell_type": "markdown",
   "metadata": {},
   "source": [
    "## Random Forest"
   ]
  },
  {
   "cell_type": "code",
   "execution_count": 34,
   "metadata": {},
   "outputs": [],
   "source": [
    "rf_params = {\n",
    "    'n_estimators' : [51, 61, 71],\n",
    "    'max_depth' : [40, 45, 50],\n",
    "    'min_samples_split' : [2, 3],\n",
    "    'min_samples_leaf' : [2, 3],\n",
    "}\n",
    "\n",
    "rf_gs = GridSearchCV(estimator = RandomForestClassifier(),\n",
    "                     param_grid = rf_params,\n",
    "                     cv = 5,\n",
    "                     n_jobs = -1,\n",
    "                     verbose = 5)"
   ]
  },
  {
   "cell_type": "code",
   "execution_count": 35,
   "metadata": {},
   "outputs": [
    {
     "name": "stdout",
     "output_type": "stream",
     "text": [
      "Fitting 5 folds for each of 36 candidates, totalling 180 fits\n"
     ]
    },
    {
     "name": "stderr",
     "output_type": "stream",
     "text": [
      "[Parallel(n_jobs=-1)]: Using backend LokyBackend with 12 concurrent workers.\n",
      "[Parallel(n_jobs=-1)]: Done  48 tasks      | elapsed:  1.0min\n",
      "[Parallel(n_jobs=-1)]: Done 138 tasks      | elapsed:  2.9min\n",
      "[Parallel(n_jobs=-1)]: Done 180 out of 180 | elapsed:  3.7min finished\n"
     ]
    },
    {
     "data": {
      "text/plain": [
       "GridSearchCV(cv=5, error_score='raise-deprecating',\n",
       "             estimator=RandomForestClassifier(bootstrap=True, class_weight=None,\n",
       "                                              criterion='gini', max_depth=None,\n",
       "                                              max_features='auto',\n",
       "                                              max_leaf_nodes=None,\n",
       "                                              min_impurity_decrease=0.0,\n",
       "                                              min_impurity_split=None,\n",
       "                                              min_samples_leaf=1,\n",
       "                                              min_samples_split=2,\n",
       "                                              min_weight_fraction_leaf=0.0,\n",
       "                                              n_estimators='warn', n_jobs=None,\n",
       "                                              oob_score=False,\n",
       "                                              random_state=None, verbose=0,\n",
       "                                              warm_start=False),\n",
       "             iid='warn', n_jobs=-1,\n",
       "             param_grid={'max_depth': [40, 45, 50], 'min_samples_leaf': [2, 3],\n",
       "                         'min_samples_split': [2, 3],\n",
       "                         'n_estimators': [51, 61, 71]},\n",
       "             pre_dispatch='2*n_jobs', refit=True, return_train_score=False,\n",
       "             scoring=None, verbose=5)"
      ]
     },
     "execution_count": 35,
     "metadata": {},
     "output_type": "execute_result"
    }
   ],
   "source": [
    "rf_gs.fit(X_train, y_train)"
   ]
  },
  {
   "cell_type": "code",
   "execution_count": 36,
   "metadata": {},
   "outputs": [
    {
     "data": {
      "text/plain": [
       "0.9985634576948701"
      ]
     },
     "execution_count": 36,
     "metadata": {},
     "output_type": "execute_result"
    }
   ],
   "source": [
    "rf_gs.score(X_train, y_train)"
   ]
  },
  {
   "cell_type": "code",
   "execution_count": 37,
   "metadata": {},
   "outputs": [
    {
     "data": {
      "text/plain": [
       "0.9075010929985635"
      ]
     },
     "execution_count": 37,
     "metadata": {},
     "output_type": "execute_result"
    }
   ],
   "source": [
    "rf_gs.score(X_test, y_test)"
   ]
  },
  {
   "cell_type": "code",
   "execution_count": 38,
   "metadata": {},
   "outputs": [
    {
     "data": {
      "text/plain": [
       "{'max_depth': 45,\n",
       " 'min_samples_leaf': 2,\n",
       " 'min_samples_split': 3,\n",
       " 'n_estimators': 61}"
      ]
     },
     "execution_count": 38,
     "metadata": {},
     "output_type": "execute_result"
    }
   ],
   "source": [
    "rf_gs.best_params_"
   ]
  },
  {
   "cell_type": "code",
   "execution_count": 39,
   "metadata": {},
   "outputs": [],
   "source": [
    "rf = rf_gs.best_estimator_"
   ]
  },
  {
   "cell_type": "markdown",
   "metadata": {},
   "source": [
    "We need to follow a similar process as we did for Bagging to extract the feature importances for the Random Forest."
   ]
  },
  {
   "cell_type": "code",
   "execution_count": 40,
   "metadata": {},
   "outputs": [],
   "source": [
    "rf_feature_importances = np.mean([\n",
    "    tree.feature_importances_ for tree in rf.estimators_\n",
    "], axis=0)"
   ]
  },
  {
   "cell_type": "markdown",
   "metadata": {},
   "source": [
    "## Extra Trees"
   ]
  },
  {
   "cell_type": "code",
   "execution_count": 41,
   "metadata": {},
   "outputs": [],
   "source": [
    "et_params = {\n",
    "    'n_estimators' : [51, 61, 71],\n",
    "    'max_depth' : [40, 45, 50],\n",
    "    'min_samples_split' : [2, 3],\n",
    "    'min_samples_leaf' : [2, 3],\n",
    "}\n",
    "\n",
    "et_gs = GridSearchCV(estimator = ExtraTreesClassifier(),\n",
    "                     param_grid = et_params,\n",
    "                     cv = 5,\n",
    "                     n_jobs = -1,\n",
    "                     verbose = 5)"
   ]
  },
  {
   "cell_type": "code",
   "execution_count": 42,
   "metadata": {},
   "outputs": [
    {
     "name": "stdout",
     "output_type": "stream",
     "text": [
      "Fitting 5 folds for each of 36 candidates, totalling 180 fits\n"
     ]
    },
    {
     "name": "stderr",
     "output_type": "stream",
     "text": [
      "[Parallel(n_jobs=-1)]: Using backend LokyBackend with 12 concurrent workers.\n",
      "[Parallel(n_jobs=-1)]: Done  48 tasks      | elapsed:   41.6s\n",
      "[Parallel(n_jobs=-1)]: Done 138 tasks      | elapsed:  2.0min\n",
      "[Parallel(n_jobs=-1)]: Done 180 out of 180 | elapsed:  2.5min finished\n"
     ]
    },
    {
     "data": {
      "text/plain": [
       "GridSearchCV(cv=5, error_score='raise-deprecating',\n",
       "             estimator=ExtraTreesClassifier(bootstrap=False, class_weight=None,\n",
       "                                            criterion='gini', max_depth=None,\n",
       "                                            max_features='auto',\n",
       "                                            max_leaf_nodes=None,\n",
       "                                            min_impurity_decrease=0.0,\n",
       "                                            min_impurity_split=None,\n",
       "                                            min_samples_leaf=1,\n",
       "                                            min_samples_split=2,\n",
       "                                            min_weight_fraction_leaf=0.0,\n",
       "                                            n_estimators='warn', n_jobs=None,\n",
       "                                            oob_score=False, random_state=None,\n",
       "                                            verbose=0, warm_start=False),\n",
       "             iid='warn', n_jobs=-1,\n",
       "             param_grid={'max_depth': [40, 45, 50], 'min_samples_leaf': [2, 3],\n",
       "                         'min_samples_split': [2, 3],\n",
       "                         'n_estimators': [51, 61, 71]},\n",
       "             pre_dispatch='2*n_jobs', refit=True, return_train_score=False,\n",
       "             scoring=None, verbose=5)"
      ]
     },
     "execution_count": 42,
     "metadata": {},
     "output_type": "execute_result"
    }
   ],
   "source": [
    "et_gs.fit(X_train, y_train)"
   ]
  },
  {
   "cell_type": "code",
   "execution_count": 43,
   "metadata": {},
   "outputs": [
    {
     "data": {
      "text/plain": [
       "0.9999791805463024"
      ]
     },
     "execution_count": 43,
     "metadata": {},
     "output_type": "execute_result"
    }
   ],
   "source": [
    "et_gs.score(X_train, y_train)"
   ]
  },
  {
   "cell_type": "code",
   "execution_count": 44,
   "metadata": {},
   "outputs": [
    {
     "data": {
      "text/plain": [
       "0.8649678346137031"
      ]
     },
     "execution_count": 44,
     "metadata": {},
     "output_type": "execute_result"
    }
   ],
   "source": [
    "et_gs.score(X_test, y_test)"
   ]
  },
  {
   "cell_type": "code",
   "execution_count": 45,
   "metadata": {},
   "outputs": [
    {
     "data": {
      "text/plain": [
       "{'max_depth': 45,\n",
       " 'min_samples_leaf': 2,\n",
       " 'min_samples_split': 2,\n",
       " 'n_estimators': 51}"
      ]
     },
     "execution_count": 45,
     "metadata": {},
     "output_type": "execute_result"
    }
   ],
   "source": [
    "et_gs.best_params_"
   ]
  },
  {
   "cell_type": "code",
   "execution_count": 46,
   "metadata": {},
   "outputs": [],
   "source": [
    "et = et_gs.best_estimator_"
   ]
  },
  {
   "cell_type": "code",
   "execution_count": 47,
   "metadata": {},
   "outputs": [],
   "source": [
    "et_feature_importances = np.mean([\n",
    "    tree.feature_importances_ for tree in et.estimators_\n",
    "], axis=0)"
   ]
  },
  {
   "cell_type": "markdown",
   "metadata": {},
   "source": [
    "## Gradient Boosting Classifier"
   ]
  },
  {
   "cell_type": "code",
   "execution_count": 48,
   "metadata": {},
   "outputs": [],
   "source": [
    "grad_params = {\n",
    "    'n_estimators' : [95, 105],\n",
    "}\n",
    "\n",
    "grad_gs = GridSearchCV(estimator = GradientBoostingClassifier(),\n",
    "                       param_grid = grad_params,\n",
    "                       cv = 5,\n",
    "                       n_jobs = -1,\n",
    "                       verbose = True)"
   ]
  },
  {
   "cell_type": "code",
   "execution_count": 49,
   "metadata": {
    "scrolled": true
   },
   "outputs": [
    {
     "name": "stdout",
     "output_type": "stream",
     "text": [
      "Fitting 5 folds for each of 2 candidates, totalling 10 fits\n"
     ]
    },
    {
     "name": "stderr",
     "output_type": "stream",
     "text": [
      "[Parallel(n_jobs=-1)]: Using backend LokyBackend with 12 concurrent workers.\n",
      "[Parallel(n_jobs=-1)]: Done  10 out of  10 | elapsed:   22.2s finished\n"
     ]
    },
    {
     "data": {
      "text/plain": [
       "GridSearchCV(cv=5, error_score='raise-deprecating',\n",
       "             estimator=GradientBoostingClassifier(criterion='friedman_mse',\n",
       "                                                  init=None, learning_rate=0.1,\n",
       "                                                  loss='deviance', max_depth=3,\n",
       "                                                  max_features=None,\n",
       "                                                  max_leaf_nodes=None,\n",
       "                                                  min_impurity_decrease=0.0,\n",
       "                                                  min_impurity_split=None,\n",
       "                                                  min_samples_leaf=1,\n",
       "                                                  min_samples_split=2,\n",
       "                                                  min_weight_fraction_leaf=0.0,\n",
       "                                                  n_estimators=100,\n",
       "                                                  n_iter_no_change=None,\n",
       "                                                  presort='auto',\n",
       "                                                  random_state=None,\n",
       "                                                  subsample=1.0, tol=0.0001,\n",
       "                                                  validation_fraction=0.1,\n",
       "                                                  verbose=0, warm_start=False),\n",
       "             iid='warn', n_jobs=-1, param_grid={'n_estimators': [95, 105]},\n",
       "             pre_dispatch='2*n_jobs', refit=True, return_train_score=False,\n",
       "             scoring=None, verbose=True)"
      ]
     },
     "execution_count": 49,
     "metadata": {},
     "output_type": "execute_result"
    }
   ],
   "source": [
    "grad_gs.fit(X_train, y_train)"
   ]
  },
  {
   "cell_type": "code",
   "execution_count": 50,
   "metadata": {},
   "outputs": [
    {
     "data": {
      "text/plain": [
       "0.7913890739506996"
      ]
     },
     "execution_count": 50,
     "metadata": {},
     "output_type": "execute_result"
    }
   ],
   "source": [
    "grad_gs.score(X_train, y_train)"
   ]
  },
  {
   "cell_type": "code",
   "execution_count": 51,
   "metadata": {},
   "outputs": [
    {
     "data": {
      "text/plain": [
       "0.7870838798326151"
      ]
     },
     "execution_count": 51,
     "metadata": {},
     "output_type": "execute_result"
    }
   ],
   "source": [
    "grad_gs.score(X_test, y_test)"
   ]
  },
  {
   "cell_type": "code",
   "execution_count": 52,
   "metadata": {},
   "outputs": [
    {
     "data": {
      "text/plain": [
       "{'n_estimators': 105}"
      ]
     },
     "execution_count": 52,
     "metadata": {},
     "output_type": "execute_result"
    }
   ],
   "source": [
    "grad_gs.best_params_"
   ]
  },
  {
   "cell_type": "code",
   "execution_count": 53,
   "metadata": {},
   "outputs": [],
   "source": [
    "grad = grad_gs.best_estimator_"
   ]
  },
  {
   "cell_type": "markdown",
   "metadata": {},
   "source": [
    "Gradient Boost has a feature importance method that we can call should we determine this to be our best model."
   ]
  },
  {
   "cell_type": "markdown",
   "metadata": {},
   "source": [
    "## Ada Boosting Classifer"
   ]
  },
  {
   "cell_type": "code",
   "execution_count": 54,
   "metadata": {},
   "outputs": [],
   "source": [
    "ada_params = {\n",
    "    'n_estimators' : [95, 105],\n",
    "}\n",
    "\n",
    "ada_gs = GridSearchCV(estimator = AdaBoostClassifier(),\n",
    "                      param_grid = ada_params,\n",
    "                      cv = 5,\n",
    "                      n_jobs = -1,\n",
    "                      verbose = 7)"
   ]
  },
  {
   "cell_type": "code",
   "execution_count": 55,
   "metadata": {},
   "outputs": [
    {
     "name": "stdout",
     "output_type": "stream",
     "text": [
      "Fitting 5 folds for each of 2 candidates, totalling 10 fits\n"
     ]
    },
    {
     "name": "stderr",
     "output_type": "stream",
     "text": [
      "[Parallel(n_jobs=-1)]: Using backend LokyBackend with 12 concurrent workers.\n",
      "[Parallel(n_jobs=-1)]: Done   3 out of  10 | elapsed:   14.7s remaining:   34.2s\n",
      "[Parallel(n_jobs=-1)]: Done   5 out of  10 | elapsed:   14.7s remaining:   14.7s\n",
      "[Parallel(n_jobs=-1)]: Done   7 out of  10 | elapsed:   15.7s remaining:    6.7s\n",
      "[Parallel(n_jobs=-1)]: Done  10 out of  10 | elapsed:   15.8s finished\n"
     ]
    },
    {
     "data": {
      "text/plain": [
       "GridSearchCV(cv=5, error_score='raise-deprecating',\n",
       "             estimator=AdaBoostClassifier(algorithm='SAMME.R',\n",
       "                                          base_estimator=None,\n",
       "                                          learning_rate=1.0, n_estimators=50,\n",
       "                                          random_state=None),\n",
       "             iid='warn', n_jobs=-1, param_grid={'n_estimators': [95, 105]},\n",
       "             pre_dispatch='2*n_jobs', refit=True, return_train_score=False,\n",
       "             scoring=None, verbose=7)"
      ]
     },
     "execution_count": 55,
     "metadata": {},
     "output_type": "execute_result"
    }
   ],
   "source": [
    "ada_gs.fit(X_train, y_train)"
   ]
  },
  {
   "cell_type": "code",
   "execution_count": 56,
   "metadata": {},
   "outputs": [
    {
     "data": {
      "text/plain": [
       "0.7809585276482345"
      ]
     },
     "execution_count": 56,
     "metadata": {},
     "output_type": "execute_result"
    }
   ],
   "source": [
    "ada_gs.score(X_train, y_train)"
   ]
  },
  {
   "cell_type": "code",
   "execution_count": 57,
   "metadata": {},
   "outputs": [
    {
     "data": {
      "text/plain": [
       "0.7774030354131535"
      ]
     },
     "execution_count": 57,
     "metadata": {},
     "output_type": "execute_result"
    }
   ],
   "source": [
    "ada_gs.score(X_test, y_test)"
   ]
  },
  {
   "cell_type": "code",
   "execution_count": 58,
   "metadata": {},
   "outputs": [
    {
     "data": {
      "text/plain": [
       "{'n_estimators': 95}"
      ]
     },
     "execution_count": 58,
     "metadata": {},
     "output_type": "execute_result"
    }
   ],
   "source": [
    "ada_gs.best_params_"
   ]
  },
  {
   "cell_type": "code",
   "execution_count": 59,
   "metadata": {},
   "outputs": [],
   "source": [
    "ada = ada_gs.best_estimator_"
   ]
  },
  {
   "cell_type": "markdown",
   "metadata": {},
   "source": [
    "# 5. Model Evaluations"
   ]
  },
  {
   "cell_type": "markdown",
   "metadata": {},
   "source": [
    "Now that we have our best fit models determined through grid searching, we want to evaluate our models on a number of metrics related to the testing set"
   ]
  },
  {
   "cell_type": "markdown",
   "metadata": {},
   "source": [
    "We will be evaluating our models on how well they perform on the testing set as we want to confirm how these models perform on unseen data.  Additionally, given our heavy focus on tree based models, we want to account for any potential overfitting by just looking at the testing set performance."
   ]
  },
  {
   "cell_type": "code",
   "execution_count": 60,
   "metadata": {},
   "outputs": [],
   "source": [
    "models = [lr, dt, bag, rf, et, grad, ada]\n",
    "model_titles = ['Logistic Regression', 'Decision Tree', 'Bagging Classifier', 'Random Forest', 'Extra Trees',\n",
    "                'Gradient Boost', 'Ada Boost']"
   ]
  },
  {
   "cell_type": "code",
   "execution_count": 61,
   "metadata": {},
   "outputs": [],
   "source": [
    "def model_metrics(model_list):\n",
    "    accuracies = [model.score(X_test, y_test) for model in model_list]\n",
    "    auc_rocs = [roc_auc_score(y_test, model.predict(X_test)) for model in model_list]\n",
    "    sensitivies = []\n",
    "    specificities = []\n",
    "    for model in model_list:\n",
    "        tn, fp, fn, tp = confusion_matrix(y_test, model.predict(X_test)).ravel()\n",
    "        sens = tp / (tp + fn)\n",
    "        sensitivies.append(sens)\n",
    "        spec = tn / (tn + fp)\n",
    "        specificities.append(spec)\n",
    "    return accuracies, auc_rocs, sensitivies, specificities"
   ]
  },
  {
   "cell_type": "code",
   "execution_count": 62,
   "metadata": {},
   "outputs": [],
   "source": [
    "accuracies, auc_rocs, sensitivities, specificities = model_metrics(models)"
   ]
  },
  {
   "cell_type": "markdown",
   "metadata": {},
   "source": [
    "## Accuracy"
   ]
  },
  {
   "cell_type": "code",
   "execution_count": 63,
   "metadata": {},
   "outputs": [],
   "source": [
    "# putting testing accuracies into a dataframe for plotting\n",
    "acc_frame = pd.DataFrame({'model' : model_titles, 'acc' : accuracies}).sort_values('acc', ascending = True)"
   ]
  },
  {
   "cell_type": "code",
   "execution_count": 64,
   "metadata": {},
   "outputs": [
    {
     "data": {
      "image/png": "[encoded data removed]",
      "text/plain": [
       "<Figure size 864x648 with 1 Axes>"
      ]
     },
     "metadata": {
      "needs_background": "light"
     },
     "output_type": "display_data"
    }
   ],
   "source": [
    "plt.figure(figsize = (12, 9));\n",
    "plt.barh(acc_frame['model'], acc_frame['acc'], color = 'orange');\n",
    "plt.xlim([0, 1]);\n",
    "plt.xlabel('Accuracy', size = 17);\n",
    "plt.ylabel('Model', size = 17);\n",
    "plt.xticks(size = 14);\n",
    "plt.yticks(size = 14);\n",
    "plt.title('Model Testing Accuracies', size = 20);\n",
    "plt.vlines(x = y_test.value_counts(normalize = True)[0], ymin = -0.5, ymax = 6.5,\n",
    "           label = 'Baseline Accuracy Score', color = 'blue', linestyles = 'dashed');"
   ]
  },
  {
   "cell_type": "markdown",
   "metadata": {},
   "source": [
    "## Area Under the ROC Curve"
   ]
  },
  {
   "cell_type": "code",
   "execution_count": 65,
   "metadata": {},
   "outputs": [],
   "source": [
    "auc_roc_frame = pd.DataFrame({'model' : model_titles, 'auc_roc' : auc_rocs}).sort_values('auc_roc', ascending = True)"
   ]
  },
  {
   "cell_type": "code",
   "execution_count": 66,
   "metadata": {},
   "outputs": [
    {
     "data": {
      "image/png": "[encoded data removed]",
      "text/plain": [
       "<Figure size 864x648 with 1 Axes>"
      ]
     },
     "metadata": {
      "needs_background": "light"
     },
     "output_type": "display_data"
    }
   ],
   "source": [
    "plt.figure(figsize = (12, 9));\n",
    "plt.barh(auc_roc_frame['model'], auc_roc_frame['auc_roc'], color = 'orange');\n",
    "plt.xlim([0, 1]);\n",
    "plt.xlabel('Area Under the ROC Curve', size = 17);\n",
    "plt.ylabel('Model', size = 17);\n",
    "plt.xticks(size = 14);\n",
    "plt.yticks(size = 14);\n",
    "plt.title('Model Testing AUC ROC Scores', size = 20);"
   ]
  },
  {
   "cell_type": "markdown",
   "metadata": {},
   "source": [
    "## Specificity"
   ]
  },
  {
   "cell_type": "code",
   "execution_count": 67,
   "metadata": {},
   "outputs": [],
   "source": [
    "spec_frame = pd.DataFrame({'model' : model_titles, 'spec' : specificities}).sort_values('spec', ascending = True)"
   ]
  },
  {
   "cell_type": "code",
   "execution_count": 68,
   "metadata": {},
   "outputs": [
    {
     "data": {
      "image/png": "[encoded data removed]",
      "text/plain": [
       "<Figure size 864x648 with 1 Axes>"
      ]
     },
     "metadata": {
      "needs_background": "light"
     },
     "output_type": "display_data"
    }
   ],
   "source": [
    "plt.figure(figsize = (12, 9));\n",
    "plt.barh(spec_frame['model'], spec_frame['spec'], color = 'orange');\n",
    "plt.xlim([0, 1]);\n",
    "plt.xlabel('Specificity', size = 17);\n",
    "plt.ylabel('Model', size = 17);\n",
    "plt.xticks(size = 14);\n",
    "plt.yticks(size = 14);\n",
    "plt.title('Model Testing Specificites', size = 20);"
   ]
  },
  {
   "cell_type": "markdown",
   "metadata": {},
   "source": [
    "## Sensitivity"
   ]
  },
  {
   "cell_type": "code",
   "execution_count": 69,
   "metadata": {},
   "outputs": [],
   "source": [
    "sens_frame = pd.DataFrame({'model' : model_titles, 'sens' : sensitivities}).sort_values('sens', ascending = True)"
   ]
  },
  {
   "cell_type": "code",
   "execution_count": 70,
   "metadata": {},
   "outputs": [
    {
     "data": {
      "image/png": "[encoded data removed]",
      "text/plain": [
       "<Figure size 864x648 with 1 Axes>"
      ]
     },
     "metadata": {
      "needs_background": "light"
     },
     "output_type": "display_data"
    }
   ],
   "source": [
    "plt.figure(figsize = (12, 9));\n",
    "plt.barh(sens_frame['model'], sens_frame['sens'], color = 'orange');\n",
    "plt.xlim([0, 1]);\n",
    "plt.xlabel('Sensitivity', size = 17);\n",
    "plt.ylabel('Model', size = 17);\n",
    "plt.xticks(size = 14);\n",
    "plt.yticks(size = 14);\n",
    "plt.title('Model Testing Sensitivities', size = 20);"
   ]
  },
  {
   "cell_type": "markdown",
   "metadata": {},
   "source": [
    "# 6. Final Model Selection and Analysis"
   ]
  },
  {
   "cell_type": "markdown",
   "metadata": {},
   "source": [
    "We mentioned this above but to reiterate, we will be using highest testing set sensitivity for our final model selection.  Triggering false positives is certainly something we would like to avoid in our predictions - resting a player or otherwise limiting him could mean the loss of games and with it, valuable playoff spots and seeding.  This certainly matters.  However, we are choosing to focus our analysis on big picture framing.  We want teams to know when their player is an injury risk to best plan for this player's long term health in the hopes that the team can optimize his rest and repititions in the game.  This is especially valuable to teams in legitimate title contention where winning on a game to game basis is not necessarily the primary goal in the regular season - the primary goal would be to ensure you are best positioned to compete for a championship come playoff time.  "
   ]
  },
  {
   "cell_type": "markdown",
   "metadata": {},
   "source": [
    "## Bagged Classifier"
   ]
  },
  {
   "cell_type": "markdown",
   "metadata": {},
   "source": [
    "Ultimately, our best models were our tree based models.  At the end, our Bagged Decision Tree scored the best on accuracy, area under the ROC curve, and (most importantly) sensitivy.  The final metrics for this model are as follows:\n",
    "\n",
    "- Sensitivity: 81.8%\n",
    "- Accuracy : 94.8%\n",
    "- Specificity: 98.6%\n",
    "- AUC ROC Score: .90"
   ]
  },
  {
   "cell_type": "markdown",
   "metadata": {},
   "source": [
    "The fairly large difference between sensitiviy and accuracy is unsuprising given our somewhat unbalanced classes.  However, with a sensitivity at this level we are still comfortable with our model's performance."
   ]
  },
  {
   "cell_type": "markdown",
   "metadata": {},
   "source": [
    "## Feature Importance"
   ]
  },
  {
   "cell_type": "markdown",
   "metadata": {},
   "source": [
    "With our final Bagged Classifier, we can view the feature importances on our features as a means of identifying what drives player injuries.  Looking at these feature importances can help us advise teams on how best to manage different players."
   ]
  },
  {
   "cell_type": "code",
   "execution_count": 71,
   "metadata": {},
   "outputs": [],
   "source": [
    "feature_frame = pd.DataFrame({'feature' : potential_features, \n",
    "                              'importance' : bag_feature_importances}).sort_values('importance', ascending = True)"
   ]
  },
  {
   "cell_type": "code",
   "execution_count": 72,
   "metadata": {},
   "outputs": [
    {
     "data": {
      "image/png": "[encoded data removed]",
      "text/plain": [
       "<Figure size 1224x1224 with 1 Axes>"
      ]
     },
     "metadata": {
      "needs_background": "light"
     },
     "output_type": "display_data"
    }
   ],
   "source": [
    "plt.figure(figsize = (17, 17));\n",
    "plt.barh(feature_frame['feature'], feature_frame['importance'], color = 'orange');\n",
    "plt.xlim([0, 0.08]);\n",
    "plt.xlabel('Feature Importance', size = 17);\n",
    "plt.ylabel('Feature', size = 17);\n",
    "plt.xticks(size = 14);\n",
    "plt.yticks(size = 14);\n",
    "plt.title('Model Feature Importances', size = 20);"
   ]
  },
  {
   "cell_type": "markdown",
   "metadata": {},
   "source": [
    "This chart shows us all features in our Data Frame.  We can view just the top 20 as well."
   ]
  },
  {
   "cell_type": "code",
   "execution_count": 73,
   "metadata": {},
   "outputs": [
    {
     "data": {
      "image/png": "[encoded data removed]",
      "text/plain": [
       "<Figure size 1224x1224 with 1 Axes>"
      ]
     },
     "metadata": {
      "needs_background": "light"
     },
     "output_type": "display_data"
    }
   ],
   "source": [
    "plt.figure(figsize = (17, 17));\n",
    "plt.barh(feature_frame['feature'].tail(20), feature_frame['importance'].tail(20), color = 'orange');\n",
    "plt.xlim([0, 0.08]);\n",
    "plt.xlabel('Feature Importance', size = 17);\n",
    "plt.ylabel('Feature', size = 17);\n",
    "plt.xticks(size = 14);\n",
    "plt.yticks(size = 14);\n",
    "plt.title('Top 20 Model Feature Importances', size = 20);"
   ]
  },
  {
   "cell_type": "markdown",
   "metadata": {},
   "source": [
    "## Conclusions and Recommendations"
   ]
  },
  {
   "cell_type": "markdown",
   "metadata": {},
   "source": [
    "Ultimately, this project seeks to answer a few questions:\n",
    "\n",
    "1. Can we build a model to predict player injuries?\n",
    "2. How can teams use these predictions?\n",
    "3. How can teams use the coefficients/feature importances of the model to drive overall strategy and thinking about how to handle injuries?"
   ]
  },
  {
   "cell_type": "markdown",
   "metadata": {},
   "source": [
    "### Question 1"
   ]
  },
  {
   "cell_type": "markdown",
   "metadata": {},
   "source": [
    "As we have proven above, the answer to this question is yes.  At this point, we are unable to provide a narrower timeline than one month on our predictions.  However, we feel comfortable that our model will pick up on roughly 80% of player injuries before they occur.  \n",
    "\n",
    "We talk about player injuries as random events - a twist of the ankle, a hit to the arm, a pulled muscle and other things that are typically viewed as bad luck.  As a result, we are fairly confident that we have debunked this line of thinking and that we can use PUBLICLY available data to better predict player injuries."
   ]
  },
  {
   "cell_type": "markdown",
   "metadata": {},
   "source": [
    "### Question 2"
   ]
  },
  {
   "cell_type": "markdown",
   "metadata": {},
   "source": [
    "There are a number of ways this model can be used.  The first and most obvious is in the moment decision making: if our model predicts that a player is set to pick up an injury, the coaching staff can take a number of measures to attempt to prevent this or limit the damage including holding the player out of games, limiting the player's minutes in the games he does play, or even limiting the players involvement in the minutes he is playing.  It is ultimately up to the discretion of the coach and highly dependent on team context on how the coach can handle this, but these are all valid strategies and can help a team prevent injuries to its prized assets.\n",
    "\n",
    "The second way this model can be used is to evaluate player transaction decisions.  If this model has recently deemed a player at a higher risk of injury, the front office in question may hesitate to acquire the player in a trade or off free agency or otherwise devalue the player.  This model can also be combined with other predictive models.  For instance, if we have simulations on how a given players season will look, we can potentially also predict the likelihood the player will suffer an injury during the season.  Interestingly, the same can be true for the NBA Draft.  For instance, if our analytics department has a model to simulate a prospect's rookie season, we can potentially assess injury risk for that player and adjust our draft ranking accordingly.  "
   ]
  },
  {
   "cell_type": "markdown",
   "metadata": {},
   "source": [
    "### Question 3"
   ]
  },
  {
   "cell_type": "markdown",
   "metadata": {},
   "source": [
    "Finally, we can view the feature importances of our model to adjust our high level thinking of injuries.  This is somewhat similar to our answer to Question 2 but allows us to build a general analytical framework for how we view these sorts of problems as opposed to simply making predictions.  Our key takeaways and conclusions from viewing the feature importances are below.  Some are suprising and some are less so.\n",
    "\n",
    "- Minutes:  Ultimately, the more minutes you play, the more likely you are to be injury prone.  As such, in trying to reduce injuries we know that additional rest for players in games is crucial.\n",
    "- Workload:  We see scattered throughout the top features various references to offensive workload.  These include free throw attempts, field goal attempts, and a number of interaction features related to player usage.  Ultimately, thinking about how to limit a players offensive workload in an effective manner can be an important step to limiting injuries.\n",
    "- Games Played / Season Timeline:  Unsuprisingly, injuries are more likely the more games played and the further into the season for a player.\n",
    "- Height: It appears that taller players suffer more injuries but in particular, taller players who are heavily features in an offense suffer additional injuries.\n",
    "- Age:  We see a similar story with age as with height.  Teams need to be more careful with older players, particularly those who still take on a heavy workload.\n",
    "\n",
    "The one crucial feature that does not appear amongst the most important that merits discussion is days off between games.  There has been a great deal of discussion in the NBA surrounding player rest and limiting involvement in games played on back to back nights, particularly with superstar players.  However, our model does not seem to think the breaks between games play a particulary important role in injury prevention."
   ]
  },
  {
   "cell_type": "markdown",
   "metadata": {},
   "source": [
    "## Potential Next Steps"
   ]
  },
  {
   "cell_type": "markdown",
   "metadata": {},
   "source": [
    "There are some next steps we can take that we feel will improve our model even further.  \n",
    "\n",
    "1. Player tracking data.  The NBA works with Second Spectrum to provide player tracking data such as foot speed, total movement, and other movement data.  Right now, the NBA only provides this data on an annual per game average basis, not on a game by game basis. If we are able to obtain this on a game by game basis and add it to the game logs, we feel that we will be able to further improve our model.\n",
    "2. Additional player data such as weight, flexibility, and other athletic metrics.\n",
    "3. Finally, we feel that NBA teams may have increased knowledge of certain issues with players such as minor injuries that do not cause a player to miss games or diet of the players that could help our predictions."
   ]
  }
 ],
 "metadata": {
  "kernelspec": {
   "display_name": "Python 3",
   "language": "python",
   "name": "python3"
  },
  "language_info": {
   "codemirror_mode": {
    "name": "ipython",
    "version": 3
   },
   "file_extension": ".py",
   "mimetype": "text/x-python",
   "name": "python",
   "nbconvert_exporter": "python",
   "pygments_lexer": "ipython3",
   "version": "3.7.3"
  },
  "toc": {
   "base_numbering": 1,
   "nav_menu": {},
   "number_sections": false,
   "sideBar": true,
   "skip_h1_title": false,
   "title_cell": "Table of Contents",
   "title_sidebar": "Contents",
   "toc_cell": true,
   "toc_position": {},
   "toc_section_display": true,
   "toc_window_display": true
  }
 },
 "nbformat": 4,
 "nbformat_minor": 2
}
