{
 "cells": [
  {
   "cell_type": "markdown",
   "metadata": {
    "toc": true
   },
   "source": [
    "<h1>Table of Contents<span class=\"tocSkip\"></span></h1>\n",
    "<div class=\"toc\"><ul class=\"toc-item\"><li><span><a href=\"#1.-Import-Packages\" data-toc-modified-id=\"1.-Import-Packages-1\">1. Import Packages</a></span></li><li><span><a href=\"#2.-Read-in-Data\" data-toc-modified-id=\"2.-Read-in-Data-2\">2. Read in Data</a></span></li><li><span><a href=\"#3.-Combining-Dataframes\" data-toc-modified-id=\"3.-Combining-Dataframes-3\">3. Combining Dataframes</a></span></li></ul></div>"
   ]
  },
  {
   "cell_type": "markdown",
   "metadata": {},
   "source": [
    "# 1. Import Packages"
   ]
  },
  {
   "cell_type": "code",
   "execution_count": 1,
   "metadata": {},
   "outputs": [],
   "source": [
    "import pandas as pd\n",
    "import numpy as np\n",
    "import matplotlib as plt\n",
    "%matplotlib inline"
   ]
  },
  {
   "cell_type": "markdown",
   "metadata": {},
   "source": [
    "# 2. Read in Data"
   ]
  },
  {
   "cell_type": "code",
   "execution_count": 2,
   "metadata": {},
   "outputs": [],
   "source": [
    "inj = pd.read_csv('../data/injuries_clean.csv')\n",
    "nba18 = pd.read_csv('../data/2017_2018_game_logs.csv')\n",
    "nba17 = pd.read_csv('../data/2016_2017_game_logs.csv')\n",
    "nba16 = pd.read_csv('../data/2015_2016_game_logs.csv')"
   ]
  },
  {
   "cell_type": "markdown",
   "metadata": {},
   "source": [
    "# 3. Combining Dataframes"
   ]
  },
  {
   "cell_type": "markdown",
   "metadata": {},
   "source": [
    "In order to be able to successfully track whether or not an injury was suffered in a given game, we want to create a new data frame combining the injuries frames with the game log data.  To do this, we first need to ensure the columns align, so we will need to add empty columns to the injury frame.  Additionally, we want to edit the injury data frame so that the dates are in line with the 2015-2018 NBA game log data we have."
   ]
  },
  {
   "cell_type": "code",
   "execution_count": 3,
   "metadata": {},
   "outputs": [],
   "source": [
    "# first we know we can clean out the unnamed: 0 column in each frame\n",
    "inj.drop(columns = ['Unnamed: 0'], inplace = True)\n",
    "nba18.drop(columns = ['Unnamed: 0'], inplace = True)\n",
    "nba17.drop(columns = ['Unnamed: 0'], inplace = True)\n",
    "nba16.drop(columns = ['Unnamed: 0'], inplace = True)"
   ]
  },
  {
   "cell_type": "code",
   "execution_count": 5,
   "metadata": {
    "scrolled": true
   },
   "outputs": [],
   "source": [
    "# setting masks for the date for each season of data\n",
    "start_18 = '2017-10-17'\n",
    "end_18 = '2018-06-08'\n",
    "start_17 = '2016-10-25'\n",
    "end_17 = '2017-06-12'\n",
    "start_16 = '2015-10-27'\n",
    "end_16 = '2016-06-19'\n",
    "# resetting our injury data frame to only be for the range of nba game logs that we have\n",
    "inj = inj[((inj['date'] >= start_18) & (inj['date'] <= end_18)) |\n",
    "    ((inj['date'] >= start_17) & (inj['date'] <= end_17)) |\n",
    "    ((inj['date'] >= start_16) & (inj['date'] <= end_16))]"
   ]
  },
  {
   "cell_type": "code",
   "execution_count": 6,
   "metadata": {},
   "outputs": [],
   "source": [
    "# adding new columns to the injury data frame for the merge\n",
    "inj_new_cols = list(set(nba18.columns) - set(inj.columns))\n",
    "for col in inj_new_cols:\n",
    "    inj[col] = ''"
   ]
  },
  {
   "cell_type": "code",
   "execution_count": 10,
   "metadata": {},
   "outputs": [],
   "source": [
    "nba_new_cols = list(set(inj.columns) - set(nba18.columns))\n",
    "for col in nba_new_cols:\n",
    "    nba18[col] = ''\n",
    "    nba17[col] = ''\n",
    "    nba16[col] = ''"
   ]
  },
  {
   "cell_type": "code",
   "execution_count": null,
   "metadata": {},
   "outputs": [],
   "source": []
  }
 ],
 "metadata": {
  "kernelspec": {
   "display_name": "Python 3",
   "language": "python",
   "name": "python3"
  },
  "language_info": {
   "codemirror_mode": {
    "name": "ipython",
    "version": 3
   },
   "file_extension": ".py",
   "mimetype": "text/x-python",
   "name": "python",
   "nbconvert_exporter": "python",
   "pygments_lexer": "ipython3",
   "version": "3.7.3"
  },
  "toc": {
   "base_numbering": 1,
   "nav_menu": {},
   "number_sections": false,
   "sideBar": true,
   "skip_h1_title": false,
   "title_cell": "Table of Contents",
   "title_sidebar": "Contents",
   "toc_cell": true,
   "toc_position": {},
   "toc_section_display": true,
   "toc_window_display": true
  }
 },
 "nbformat": 4,
 "nbformat_minor": 2
}
