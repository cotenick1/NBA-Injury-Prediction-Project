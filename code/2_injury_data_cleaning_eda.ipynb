{
 "cells": [
  {
   "cell_type": "markdown",
   "metadata": {
    "toc": true
   },
   "source": [
    "<h1>Table of Contents<span class=\"tocSkip\"></span></h1>\n",
    "<div class=\"toc\"><ul class=\"toc-item\"><li><span><a href=\"#1.-Import-Packages\" data-toc-modified-id=\"1.-Import-Packages-1\">1. Import Packages</a></span></li><li><span><a href=\"#2.-Read-in-Data\" data-toc-modified-id=\"2.-Read-in-Data-2\">2. Read in Data</a></span></li><li><span><a href=\"#3.-Data-Cleaning\" data-toc-modified-id=\"3.-Data-Cleaning-3\">3. Data Cleaning</a></span><ul class=\"toc-item\"><li><span><a href=\"#Filling-Nulls\" data-toc-modified-id=\"Filling-Nulls-3.1\">Filling Nulls</a></span></li><li><span><a href=\"#Data-Types\" data-toc-modified-id=\"Data-Types-3.2\">Data Types</a></span></li><li><span><a href=\"#Creating-New/Dropping-Columns\" data-toc-modified-id=\"Creating-New/Dropping-Columns-3.3\">Creating New/Dropping Columns</a></span></li><li><span><a href=\"#Editing-Player-Names\" data-toc-modified-id=\"Editing-Player-Names-3.4\">Editing Player Names</a></span></li><li><span><a href=\"#Removing-Unnecessary-Rows\" data-toc-modified-id=\"Removing-Unnecessary-Rows-3.5\">Removing Unnecessary Rows</a></span></li></ul></li><li><span><a href=\"#4.-Renaming-Columns\" data-toc-modified-id=\"4.-Renaming-Columns-4\">4. Renaming Columns</a></span></li><li><span><a href=\"#5.-Saving-Clean-File-to-CSV\" data-toc-modified-id=\"5.-Saving-Clean-File-to-CSV-5\">5. Saving Clean File to CSV</a></span></li></ul></div>"
   ]
  },
  {
   "cell_type": "markdown",
   "metadata": {},
   "source": [
    "# 1. Import Packages"
   ]
  },
  {
   "cell_type": "code",
   "execution_count": 1,
   "metadata": {},
   "outputs": [],
   "source": [
    "import pandas as pd\n",
    "import numpy as np"
   ]
  },
  {
   "cell_type": "markdown",
   "metadata": {},
   "source": [
    "# 2. Read in Data"
   ]
  },
  {
   "cell_type": "markdown",
   "metadata": {},
   "source": [
    "Our data set on NBA injuries comes from Kaggle (https://www.kaggle.com/ghopkins/nba-injuries-2010-2018) and lists out announcements from injuries along with current team and date."
   ]
  },
  {
   "cell_type": "code",
   "execution_count": 2,
   "metadata": {},
   "outputs": [],
   "source": [
    "inj = pd.read_csv('../data/2010-2018_NBA_injuries.csv')"
   ]
  },
  {
   "cell_type": "markdown",
   "metadata": {},
   "source": [
    "# 3. Data Cleaning"
   ]
  },
  {
   "cell_type": "code",
   "execution_count": 3,
   "metadata": {},
   "outputs": [
    {
     "data": {
      "text/html": [
       "<div>\n",
       "<style scoped>\n",
       "    .dataframe tbody tr th:only-of-type {\n",
       "        vertical-align: middle;\n",
       "    }\n",
       "\n",
       "    .dataframe tbody tr th {\n",
       "        vertical-align: top;\n",
       "    }\n",
       "\n",
       "    .dataframe thead th {\n",
       "        text-align: right;\n",
       "    }\n",
       "</style>\n",
       "<table border=\"1\" class=\"dataframe\">\n",
       "  <thead>\n",
       "    <tr style=\"text-align: right;\">\n",
       "      <th></th>\n",
       "      <th>Date</th>\n",
       "      <th>Team</th>\n",
       "      <th>Acquired</th>\n",
       "      <th>Relinquised</th>\n",
       "      <th>Notes</th>\n",
       "    </tr>\n",
       "  </thead>\n",
       "  <tbody>\n",
       "    <tr>\n",
       "      <td>0</td>\n",
       "      <td>2010-10-03</td>\n",
       "      <td>Bulls</td>\n",
       "      <td>NaN</td>\n",
       "      <td>Carlos Boozer</td>\n",
       "      <td>fractured bone in right pinky finger (out inde...</td>\n",
       "    </tr>\n",
       "    <tr>\n",
       "      <td>1</td>\n",
       "      <td>2010-10-06</td>\n",
       "      <td>Pistons</td>\n",
       "      <td>NaN</td>\n",
       "      <td>Jonas Jerebko</td>\n",
       "      <td>torn right Acchilles tendon (out indefinitely)</td>\n",
       "    </tr>\n",
       "    <tr>\n",
       "      <td>2</td>\n",
       "      <td>2010-10-06</td>\n",
       "      <td>Pistons</td>\n",
       "      <td>NaN</td>\n",
       "      <td>Terrico White</td>\n",
       "      <td>broken fifth metatarsal in right foot (out ind...</td>\n",
       "    </tr>\n",
       "    <tr>\n",
       "      <td>3</td>\n",
       "      <td>2010-10-08</td>\n",
       "      <td>Blazers</td>\n",
       "      <td>NaN</td>\n",
       "      <td>Jeff Pendergraph / Jeff Ayres</td>\n",
       "      <td>torn ACL in right knee (out indefinitely)</td>\n",
       "    </tr>\n",
       "    <tr>\n",
       "      <td>4</td>\n",
       "      <td>2010-10-08</td>\n",
       "      <td>Nets</td>\n",
       "      <td>NaN</td>\n",
       "      <td>Troy Murphy</td>\n",
       "      <td>strained lower back (out indefinitely)</td>\n",
       "    </tr>\n",
       "  </tbody>\n",
       "</table>\n",
       "</div>"
      ],
      "text/plain": [
       "         Date     Team Acquired                    Relinquised  \\\n",
       "0  2010-10-03    Bulls      NaN                  Carlos Boozer   \n",
       "1  2010-10-06  Pistons      NaN                  Jonas Jerebko   \n",
       "2  2010-10-06  Pistons      NaN                  Terrico White   \n",
       "3  2010-10-08  Blazers      NaN  Jeff Pendergraph / Jeff Ayres   \n",
       "4  2010-10-08     Nets      NaN                    Troy Murphy   \n",
       "\n",
       "                                               Notes  \n",
       "0  fractured bone in right pinky finger (out inde...  \n",
       "1     torn right Acchilles tendon (out indefinitely)  \n",
       "2  broken fifth metatarsal in right foot (out ind...  \n",
       "3          torn ACL in right knee (out indefinitely)  \n",
       "4             strained lower back (out indefinitely)  "
      ]
     },
     "execution_count": 3,
     "metadata": {},
     "output_type": "execute_result"
    }
   ],
   "source": [
    "inj.head()"
   ]
  },
  {
   "cell_type": "code",
   "execution_count": 4,
   "metadata": {},
   "outputs": [
    {
     "data": {
      "text/html": [
       "<div>\n",
       "<style scoped>\n",
       "    .dataframe tbody tr th:only-of-type {\n",
       "        vertical-align: middle;\n",
       "    }\n",
       "\n",
       "    .dataframe tbody tr th {\n",
       "        vertical-align: top;\n",
       "    }\n",
       "\n",
       "    .dataframe thead th {\n",
       "        text-align: right;\n",
       "    }\n",
       "</style>\n",
       "<table border=\"1\" class=\"dataframe\">\n",
       "  <thead>\n",
       "    <tr style=\"text-align: right;\">\n",
       "      <th></th>\n",
       "      <th>Date</th>\n",
       "      <th>Team</th>\n",
       "      <th>Acquired</th>\n",
       "      <th>Relinquised</th>\n",
       "      <th>Notes</th>\n",
       "    </tr>\n",
       "  </thead>\n",
       "  <tbody>\n",
       "    <tr>\n",
       "      <td>9778</td>\n",
       "      <td>2018-05-22</td>\n",
       "      <td>Warriors</td>\n",
       "      <td>NaN</td>\n",
       "      <td>Andre Iguodala</td>\n",
       "      <td>bruised left leg (DTD)</td>\n",
       "    </tr>\n",
       "    <tr>\n",
       "      <td>9779</td>\n",
       "      <td>2018-05-25</td>\n",
       "      <td>Rockets</td>\n",
       "      <td>NaN</td>\n",
       "      <td>Chris Paul</td>\n",
       "      <td>strained right hamstring (out for season)</td>\n",
       "    </tr>\n",
       "    <tr>\n",
       "      <td>9780</td>\n",
       "      <td>2018-05-26</td>\n",
       "      <td>Cavaliers</td>\n",
       "      <td>NaN</td>\n",
       "      <td>Kevin Love</td>\n",
       "      <td>concussion (DTD)</td>\n",
       "    </tr>\n",
       "    <tr>\n",
       "      <td>9781</td>\n",
       "      <td>2018-05-31</td>\n",
       "      <td>Cavaliers</td>\n",
       "      <td>Kevin Love</td>\n",
       "      <td>NaN</td>\n",
       "      <td>returned to lineup</td>\n",
       "    </tr>\n",
       "    <tr>\n",
       "      <td>9782</td>\n",
       "      <td>2018-06-06</td>\n",
       "      <td>Warriors</td>\n",
       "      <td>Andre Iguodala</td>\n",
       "      <td>NaN</td>\n",
       "      <td>returned to lineup</td>\n",
       "    </tr>\n",
       "  </tbody>\n",
       "</table>\n",
       "</div>"
      ],
      "text/plain": [
       "            Date       Team        Acquired     Relinquised  \\\n",
       "9778  2018-05-22   Warriors             NaN  Andre Iguodala   \n",
       "9779  2018-05-25    Rockets             NaN      Chris Paul   \n",
       "9780  2018-05-26  Cavaliers             NaN      Kevin Love   \n",
       "9781  2018-05-31  Cavaliers      Kevin Love             NaN   \n",
       "9782  2018-06-06   Warriors  Andre Iguodala             NaN   \n",
       "\n",
       "                                          Notes  \n",
       "9778                     bruised left leg (DTD)  \n",
       "9779  strained right hamstring (out for season)  \n",
       "9780                           concussion (DTD)  \n",
       "9781                         returned to lineup  \n",
       "9782                         returned to lineup  "
      ]
     },
     "execution_count": 4,
     "metadata": {},
     "output_type": "execute_result"
    }
   ],
   "source": [
    "inj.tail()"
   ]
  },
  {
   "cell_type": "markdown",
   "metadata": {},
   "source": [
    "## Filling Nulls"
   ]
  },
  {
   "cell_type": "code",
   "execution_count": 5,
   "metadata": {},
   "outputs": [
    {
     "data": {
      "text/plain": [
       "Date              0\n",
       "Team              3\n",
       "Acquired       8194\n",
       "Relinquised    1589\n",
       "Notes             0\n",
       "dtype: int64"
      ]
     },
     "execution_count": 5,
     "metadata": {},
     "output_type": "execute_result"
    }
   ],
   "source": [
    "inj.isnull().sum()"
   ]
  },
  {
   "cell_type": "markdown",
   "metadata": {},
   "source": [
    "We can fill all nulls with empty string as they are all in the two name and team columns."
   ]
  },
  {
   "cell_type": "code",
   "execution_count": 6,
   "metadata": {},
   "outputs": [],
   "source": [
    "inj.fillna('', inplace = True)"
   ]
  },
  {
   "cell_type": "markdown",
   "metadata": {},
   "source": [
    "## Data Types"
   ]
  },
  {
   "cell_type": "code",
   "execution_count": 7,
   "metadata": {},
   "outputs": [
    {
     "data": {
      "text/plain": [
       "Date           object\n",
       "Team           object\n",
       "Acquired       object\n",
       "Relinquised    object\n",
       "Notes          object\n",
       "dtype: object"
      ]
     },
     "execution_count": 7,
     "metadata": {},
     "output_type": "execute_result"
    }
   ],
   "source": [
    "inj.dtypes"
   ]
  },
  {
   "cell_type": "markdown",
   "metadata": {},
   "source": [
    "We want to convert the dates to datetime objects and the other three columns should all be string.  "
   ]
  },
  {
   "cell_type": "code",
   "execution_count": 8,
   "metadata": {},
   "outputs": [],
   "source": [
    "inj['Date'] = pd.to_datetime(inj['Date'])"
   ]
  },
  {
   "cell_type": "markdown",
   "metadata": {},
   "source": [
    "Next we want to convert the remaining three columns to string."
   ]
  },
  {
   "cell_type": "code",
   "execution_count": 9,
   "metadata": {},
   "outputs": [],
   "source": [
    "inj['Team'] = inj['Team'].map(lambda i : str(i))\n",
    "inj['Acquired'] = inj['Acquired'].map(lambda i: str(i))\n",
    "inj['Relinquised'] = inj['Relinquised'].map(lambda i: str(i))\n",
    "inj['Notes'] = inj['Notes'].map(lambda i : str(i))"
   ]
  },
  {
   "cell_type": "markdown",
   "metadata": {},
   "source": [
    "## Creating New/Dropping Columns"
   ]
  },
  {
   "cell_type": "markdown",
   "metadata": {},
   "source": [
    "We noticed that there is only one player in either the Acquired or Relinquished column - we want to combine these into one player column and then delete the two old columns."
   ]
  },
  {
   "cell_type": "code",
   "execution_count": 10,
   "metadata": {},
   "outputs": [],
   "source": [
    "inj['name'] = inj['Acquired'] + inj['Relinquised']"
   ]
  },
  {
   "cell_type": "code",
   "execution_count": 11,
   "metadata": {},
   "outputs": [],
   "source": [
    "# we will also drop the team column as we don't require that\n",
    "inj.drop(columns = ['Acquired', 'Relinquised', 'Team'], inplace = True)"
   ]
  },
  {
   "cell_type": "markdown",
   "metadata": {},
   "source": [
    "## Editing Player Names"
   ]
  },
  {
   "cell_type": "code",
   "execution_count": 12,
   "metadata": {},
   "outputs": [],
   "source": [
    "inj['name'] = inj['name'].map(lambda i : i.lower().replace(\n",
    "            ' ', '').replace(\n",
    "            '.', '').replace(\n",
    "            '-', '').replace(\n",
    "            \"'\", \"\").replace(\n",
    "            '/', '').replace(\n",
    "            '(william)', ''))   # necessary due to one player"
   ]
  },
  {
   "cell_type": "markdown",
   "metadata": {},
   "source": [
    "## Removing Unnecessary Rows"
   ]
  },
  {
   "cell_type": "markdown",
   "metadata": {},
   "source": [
    "This data comes from a set on announcments related to injuries.  In our initial viewing of the data, we see that some of the rows are not relevant for our purposes and should be removed from the set."
   ]
  },
  {
   "cell_type": "markdown",
   "metadata": {},
   "source": [
    "We can drop rows where the note is \"returned to lineup\". Additionally we can drop rows that mention flu or illness as the reason for not playing.  Finally, there are other pieces of string we see that we want to clear out that are not relevant."
   ]
  },
  {
   "cell_type": "markdown",
   "metadata": {},
   "source": [
    "Additionally, we want to clear out any rows where a player did not play due to rest.  Although this can be interpreted in some cases as the team being aware of a player's unique needs without specifying an injury, our knowledge is that teams often plan these rest days ahead of time regardless of current physical state.  Therefore, we will remove these rows.  However, we are potentially interested in viewing how teams handle rest days and as such, we will save these instances down into a new CSV file before removing them from the main injuries base."
   ]
  },
  {
   "cell_type": "code",
   "execution_count": 13,
   "metadata": {},
   "outputs": [],
   "source": [
    "# rest csv file\n",
    "inj[(inj['Notes'] == 'rest (DTD)') | (inj['Notes'] == 'rest (DNP)')].to_csv('../data/rest.csv')"
   ]
  },
  {
   "cell_type": "code",
   "execution_count": 14,
   "metadata": {},
   "outputs": [],
   "source": [
    "remove_string = ['returned to lineup', \n",
    "                 'illness (DNP)',\n",
    "                 'illness (DTD)',\n",
    "                 'flu (DNP)',\n",
    "                 'flu (DTD)',\n",
    "                 'returned as head coach', \n",
    "                 'returned to lineup (CBC)',\n",
    "                 'activated from IL',\n",
    "                 'head coach returned to team',\n",
    "                 'returned to team as head coach',\n",
    "                 'headache (DNP)',\n",
    "                 'migraine headache (DNP)'\n",
    "                 'ill (DNP)',\n",
    "                 'ill (DTD)'\n",
    "                 'rest (DTD)',\n",
    "                 'rest (DNP)',\n",
    "                 'personal reasons (DNP)',\n",
    "                 'personal reasons (DTD)',\n",
    "                 'DNP',\n",
    "                 'blood clots (out for season)',\n",
    "                 'thrombocytopenia (blood disorder) (DTD)',\n",
    "                 'upper respiratory infection (DNP)',\n",
    "                 'upper respiratory infection (DTD)',\n",
    "                 'upper respiratory illness (DTD)',\n",
    "                 'upper respiratory illness (DNP)',\n",
    "                 'upper respiratory illness (DTD) (CBC Y)',\n",
    "                 'illness / upper respiratory infection (DTD)'\n",
    "                ]"
   ]
  },
  {
   "cell_type": "code",
   "execution_count": 15,
   "metadata": {},
   "outputs": [],
   "source": [
    "for phrase in remove_string:\n",
    "    inj = inj[inj['Notes'] != phrase]"
   ]
  },
  {
   "cell_type": "markdown",
   "metadata": {},
   "source": [
    "# 4. Renaming Columns"
   ]
  },
  {
   "cell_type": "code",
   "execution_count": 16,
   "metadata": {},
   "outputs": [],
   "source": [
    "inj.rename(columns = {'Date' : 'date', 'Notes' : 'notes'}, inplace = True)"
   ]
  },
  {
   "cell_type": "markdown",
   "metadata": {},
   "source": [
    "# 5. Saving Clean File to CSV"
   ]
  },
  {
   "cell_type": "code",
   "execution_count": 17,
   "metadata": {},
   "outputs": [],
   "source": [
    "inj.to_csv('../data/injuries_clean.csv')"
   ]
  }
 ],
 "metadata": {
  "kernelspec": {
   "display_name": "Python 3",
   "language": "python",
   "name": "python3"
  },
  "language_info": {
   "codemirror_mode": {
    "name": "ipython",
    "version": 3
   },
   "file_extension": ".py",
   "mimetype": "text/x-python",
   "name": "python",
   "nbconvert_exporter": "python",
   "pygments_lexer": "ipython3",
   "version": "3.7.3"
  },
  "toc": {
   "base_numbering": 1,
   "nav_menu": {},
   "number_sections": false,
   "sideBar": true,
   "skip_h1_title": false,
   "title_cell": "Table of Contents",
   "title_sidebar": "Contents",
   "toc_cell": true,
   "toc_position": {},
   "toc_section_display": true,
   "toc_window_display": true
  }
 },
 "nbformat": 4,
 "nbformat_minor": 2
}
